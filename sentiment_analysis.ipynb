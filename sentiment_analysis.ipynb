{
 "cells": [
  {
   "cell_type": "code",
   "execution_count": 26,
   "id": "879a8196",
   "metadata": {},
   "outputs": [],
   "source": [
    "import pandas as pd\n",
    "import numpy as np\n",
    "import nltk\n",
    "from nltk.corpus import stopwords\n",
    "from sklearn.model_selection import train_test_split\n",
    "from sklearn.feature_extraction.text import TfidfVectorizer\n",
    "from sklearn.preprocessing import LabelEncoder\n",
    "from sklearn.naive_bayes import MultinomialNB\n",
    "from sklearn.metrics import accuracy_score, classification_report\n",
    "from sklearn.pipeline import Pipeline\n",
    "from sklearn.model_selection import GridSearchCV\n",
    "from sklearn.naive_bayes import MultinomialNB\n",
    "from sklearn.feature_extraction.text import TfidfVectorizer"
   ]
  },
  {
   "cell_type": "code",
   "execution_count": 27,
   "id": "1753e1a4",
   "metadata": {},
   "outputs": [
    {
     "name": "stderr",
     "output_type": "stream",
     "text": [
      "[nltk_data] Downloading package stopwords to\n",
      "[nltk_data]     C:\\Users\\vedav\\AppData\\Roaming\\nltk_data...\n",
      "[nltk_data]   Package stopwords is already up-to-date!\n"
     ]
    }
   ],
   "source": [
    "#nltk dwnld\n",
    "nltk.download('stopwords')\n",
    "stop_words=set(stopwords.words('english'))"
   ]
  },
  {
   "cell_type": "code",
   "execution_count": 28,
   "id": "f63f91a0",
   "metadata": {},
   "outputs": [],
   "source": [
    "#load the dataset\n",
    "def load(file_path):\n",
    "    df=pd.read_csv(file_path,encoding='latin1')\n",
    "    return df"
   ]
  },
  {
   "cell_type": "code",
   "execution_count": 29,
   "id": "b6800e01",
   "metadata": {},
   "outputs": [],
   "source": [
    "#preprocessing\n",
    "def preprocessing(df):\n",
    "    df['text']=df['text'].fillna('')\n",
    "    df['sentiment']=df['sentiment'].fillna('neutral')  \n",
    "    df['sentiment']=df['sentiment'].astype(str)\n",
    "    df['text']=df['text'].apply(lambda x: \" \".join([word for word in x.split() if word not in stop_words]))\n",
    "    return df"
   ]
  },
  {
   "cell_type": "code",
   "execution_count": 30,
   "id": "5fff634c",
   "metadata": {},
   "outputs": [],
   "source": [
    "#training\n",
    "def training(X_train,y_train):\n",
    "    vectorizer=TfidfVectorizer(max_features=5000)\n",
    "    X_train_vec=vectorizer.fit_transform(X_train)\n",
    "    label_encoder=LabelEncoder()\n",
    "    y_train_encoded=label_encoder.fit_transform(y_train)\n",
    "    model=MultinomialNB()\n",
    "    model.fit(X_train_vec,y_train_encoded)\n",
    "    return model, vectorizer,label_encoder"
   ]
  },
  {
   "cell_type": "code",
   "execution_count": 31,
   "id": "f1b6d563",
   "metadata": {},
   "outputs": [],
   "source": [
    "#evaluation fo the model\n",
    "def evaluation(model,vectorizer,label_encoder,X_test,y_test):\n",
    "    X_test_vec=vectorizer.transform(X_test)\n",
    "    y_test_encoded=label_encoder.transform(y_test)\n",
    "    y_pred=model.predict(X_test_vec)\n",
    "    accuracy=accuracy_score(y_test_encoded,y_pred)\n",
    "    report=classification_report(y_test_encoded,y_pred,target_names=label_encoder.classes_)\n",
    "    return accuracy,report"
   ]
  },
  {
   "cell_type": "code",
   "execution_count": 42,
   "id": "77a7b938",
   "metadata": {},
   "outputs": [],
   "source": [
    "#predicting sentiment\n",
    "def predict_sentiment(model,vectorizer,label_encoder,text):\n",
    "    text=\" \".join([word for word in text.split() if word not in stop_words])\n",
    "    text_vec=vectorizer.transform([text])\n",
    "    text_pred=model.predict(text_vec)\n",
    "    sentiment=label_encoder.inverse_transform(text_pred)\n",
    "    return sentiment[0]"
   ]
  },
  {
   "cell_type": "code",
   "execution_count": 43,
   "id": "fedd21d8",
   "metadata": {},
   "outputs": [],
   "source": [
    "#main func to load the data\n",
    "def main(train_file_path, test_file_path):\n",
    "    train_df=load(train_file_path)\n",
    "    test_df=load(test_file_path)\n",
    "    train_df=preprocessing(train_df)\n",
    "    test_df=preprocessing(test_df)\n",
    "    X_train=train_df['text']\n",
    "    y_train=train_df['sentiment']\n",
    "    X_test=test_df['text']\n",
    "    y_test=test_df['sentiment']\n",
    "    model,vectorizer,label_encoder=training(X_train,y_train)\n",
    "    accuracy,report=evaluation(model,vectorizer,label_encoder,X_test,y_test)\n",
    "    print(f\"Accuracy: {accuracy}\")\n",
    "    print(f\"Classification Report:\\n{report}\")\n",
    "    while True:\n",
    "        user_input=input(\"Enter a sentence to analyze sentiment (or type 'exit' to quit): \")\n",
    "        if user_input.lower()=='exit':\n",
    "            break\n",
    "        sentiment=predict_sentiment(model, vectorizer, label_encoder,user_input)\n",
    "        print(f\"The sentiment of the sentence is: {sentiment}\")    "
   ]
  },
  {
   "cell_type": "code",
   "execution_count": 44,
   "id": "14d990cf",
   "metadata": {},
   "outputs": [
    {
     "name": "stderr",
     "output_type": "stream",
     "text": [
      "C:\\ProgramData\\anaconda3\\lib\\site-packages\\sklearn\\metrics\\_classification.py:1344: UndefinedMetricWarning: Precision and F-score are ill-defined and being set to 0.0 in labels with no predicted samples. Use `zero_division` parameter to control this behavior.\n",
      "  _warn_prf(average, modifier, msg_start, len(result))\n",
      "C:\\ProgramData\\anaconda3\\lib\\site-packages\\sklearn\\metrics\\_classification.py:1344: UndefinedMetricWarning: Precision and F-score are ill-defined and being set to 0.0 in labels with no predicted samples. Use `zero_division` parameter to control this behavior.\n",
      "  _warn_prf(average, modifier, msg_start, len(result))\n",
      "C:\\ProgramData\\anaconda3\\lib\\site-packages\\sklearn\\metrics\\_classification.py:1344: UndefinedMetricWarning: Precision and F-score are ill-defined and being set to 0.0 in labels with no predicted samples. Use `zero_division` parameter to control this behavior.\n",
      "  _warn_prf(average, modifier, msg_start, len(result))\n"
     ]
    },
    {
     "name": "stdout",
     "output_type": "stream",
     "text": [
      "Accuracy: 0.42857142857142855\n",
      "Classification Report:\n",
      "              precision    recall  f1-score   support\n",
      "\n",
      "    negative       0.00      0.00      0.00         2\n",
      "     neutral       1.00      0.33      0.50         3\n",
      "    positive       0.33      1.00      0.50         2\n",
      "\n",
      "    accuracy                           0.43         7\n",
      "   macro avg       0.44      0.44      0.33         7\n",
      "weighted avg       0.52      0.43      0.36         7\n",
      "\n",
      "Enter a sentence to analyze sentiment (or type 'exit' to quit): I absolutely love this product, it works wonders!\n",
      "The sentiment of the sentence is: positive\n",
      "Enter a sentence to analyze sentiment (or type 'exit' to quit): The service was okay, but could be improved.\n",
      "The sentiment of the sentence is: neutral\n",
      "Enter a sentence to analyze sentiment (or type 'exit' to quit): Terrible, would not recommend to anyone.\n",
      "The sentiment of the sentence is: negative\n",
      "Enter a sentence to analyze sentiment (or type 'exit' to quit): exit\n"
     ]
    }
   ],
   "source": [
    "main(\"C:/Users/vedav/Downloads/dataset/trainsenti.csv\", \"C:/Users/vedav/Downloads/dataset/testsenti.csv\")"
   ]
  },
  {
   "cell_type": "code",
   "execution_count": null,
   "id": "3d1c82de",
   "metadata": {},
   "outputs": [],
   "source": []
  },
  {
   "cell_type": "code",
   "execution_count": null,
   "id": "53e09afe",
   "metadata": {},
   "outputs": [],
   "source": []
  },
  {
   "cell_type": "code",
   "execution_count": null,
   "id": "8e636e4a",
   "metadata": {},
   "outputs": [],
   "source": []
  }
 ],
 "metadata": {
  "kernelspec": {
   "display_name": "Python 3 (ipykernel)",
   "language": "python",
   "name": "python3"
  },
  "language_info": {
   "codemirror_mode": {
    "name": "ipython",
    "version": 3
   },
   "file_extension": ".py",
   "mimetype": "text/x-python",
   "name": "python",
   "nbconvert_exporter": "python",
   "pygments_lexer": "ipython3",
   "version": "3.10.9"
  }
 },
 "nbformat": 4,
 "nbformat_minor": 5
}
